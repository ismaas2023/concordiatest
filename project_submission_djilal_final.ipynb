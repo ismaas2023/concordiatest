{
  "cells": [
    {
      "cell_type": "markdown",
      "metadata": {
        "id": "view-in-github",
        "colab_type": "text"
      },
      "source": [
        "<a href=\"https://colab.research.google.com/github/ismaas2023/concordiatest/blob/main/project_submission_djilal_final.ipynb\" target=\"_parent\"><img src=\"https://colab.research.google.com/assets/colab-badge.svg\" alt=\"Open In Colab\"/></a>"
      ]
    },
    {
      "cell_type": "markdown",
      "id": "ed175a82",
      "metadata": {
        "id": "ed175a82"
      },
      "source": [
        "# Project Submission\n",
        "\n",
        "**Please use this notebook for your submission.**\n",
        "\n",
        "Make sure to fill out all the required fields and to answer all the questions.\n",
        "\n",
        "You will be working with a dataset that includes the results of international football matches from 1872 to 2024. The matches range from FIFA World Cups to regular friendly matches.\n",
        "\n",
        "At the end of this project, you will have answered the following questions:\n",
        "\n",
        "1. What is the average number of goals for the home team?\n",
        "2. What is the average number of goals for the away team?\n",
        "3. What is the country with the highest overall home score?\n",
        "4. What are the top 3 type of tournaments?\n",
        "5. Which country has the highest overall FIFA World Cup goals?\n",
        "\n",
        "\n",
        "**Submission Requirements:**\n",
        "\n",
        "- Make sure that you run all cells with code in your notebook before submitting.\n",
        "- You can add additional cells of code if you want, but make sure to clean up your notebook, and only leave the code required to answer the questions.\n",
        "\n",
        "\n",
        "_Original Data Source: [Kaggle](https://www.kaggle.com/datasets/martj42/international-football-results-from-1872-to-2017/data)_"
      ]
    },
    {
      "cell_type": "markdown",
      "id": "43e336b8",
      "metadata": {
        "id": "43e336b8"
      },
      "source": [
        "## Step 1: Getting Started\n",
        "\n",
        "You will mainly work with a Python library called Pandas. Pandas is a powerful library that allows us to manipulate data. In order to use Pandas, you first have to import it."
      ]
    },
    {
      "cell_type": "code",
      "execution_count": 2,
      "id": "3033fd44",
      "metadata": {
        "id": "3033fd44"
      },
      "outputs": [],
      "source": [
        "import pandas as pd"
      ]
    },
    {
      "cell_type": "markdown",
      "id": "f7e3b7f7",
      "metadata": {
        "id": "f7e3b7f7"
      },
      "source": [
        "## Step 2: Loading and Exporing the Data\n",
        "\n",
        "You can use Pandas to explore and manipulate the _results.csv_ file.\n",
        "You first have to load the csv file into a Pandas dataframe, so you can then analyize the data.\n",
        "\n",
        "When using `pd.read_csv()`, make sure you inlcude the correct path to the csv file, depending on where you saved it when you downloaded it."
      ]
    },
    {
      "cell_type": "code",
      "execution_count": 4,
      "id": "2c9de780",
      "metadata": {
        "id": "2c9de780"
      },
      "outputs": [],
      "source": [
        "# First: Load the csv file into a Pandas dataframe (df)\n",
        "\n",
        "df = pd.read_csv('results.csv')"
      ]
    },
    {
      "cell_type": "code",
      "execution_count": null,
      "id": "bb2a11f0",
      "metadata": {
        "id": "bb2a11f0",
        "outputId": "e7de7fe0-0e0d-4833-8ec1-25ca2677bf6a"
      },
      "outputs": [
        {
          "name": "stdout",
          "output_type": "stream",
          "text": [
            "<class 'pandas.core.frame.DataFrame'>\n",
            "RangeIndex: 45315 entries, 0 to 45314\n",
            "Data columns (total 9 columns):\n",
            " #   Column      Non-Null Count  Dtype \n",
            "---  ------      --------------  ----- \n",
            " 0   date        45315 non-null  object\n",
            " 1   home_team   45315 non-null  object\n",
            " 2   away_team   45315 non-null  object\n",
            " 3   home_score  45315 non-null  int64 \n",
            " 4   away_score  45315 non-null  int64 \n",
            " 5   tournament  45315 non-null  object\n",
            " 6   city        45315 non-null  object\n",
            " 7   country     45315 non-null  object\n",
            " 8   neutral     45315 non-null  bool  \n",
            "dtypes: bool(1), int64(2), object(6)\n",
            "memory usage: 2.8+ MB\n"
          ]
        }
      ],
      "source": [
        "# Explore the df\n",
        "\n",
        "df.info()"
      ]
    },
    {
      "cell_type": "markdown",
      "id": "6a2aa881",
      "metadata": {
        "id": "6a2aa881"
      },
      "source": [
        "## Step 3: Data Analysis"
      ]
    },
    {
      "cell_type": "markdown",
      "id": "98b9d5dd",
      "metadata": {
        "id": "98b9d5dd"
      },
      "source": [
        "### Q1: What is the average number of goals for the home team?\n",
        "\n",
        "Hint: You can call the `mean()` method on the _'home_score'_ column."
      ]
    },
    {
      "cell_type": "code",
      "execution_count": 5,
      "id": "47662232",
      "metadata": {
        "colab": {
          "base_uri": "https://localhost:8080/",
          "height": 34
        },
        "id": "47662232",
        "outputId": "13e79357-4d73-4bcb-d075-9c386ac295c4"
      },
      "outputs": [
        {
          "output_type": "display_data",
          "data": {
            "text/plain": [
              "1.7393136930376256"
            ]
          },
          "metadata": {}
        }
      ],
      "source": [
        "display(df['home_score'].mean())"
      ]
    },
    {
      "cell_type": "markdown",
      "id": "ce194e01",
      "metadata": {
        "id": "ce194e01"
      },
      "source": [
        "### Q2: What is the average number of goals for the away team?\n",
        "\n",
        "Hint: You can call the `mean()` method on the _'away_score'_ column."
      ]
    },
    {
      "cell_type": "code",
      "execution_count": 6,
      "id": "4fb43467",
      "metadata": {
        "colab": {
          "base_uri": "https://localhost:8080/",
          "height": 34
        },
        "id": "4fb43467",
        "outputId": "5d82ecd8-c13f-41f0-e7e9-f1bcf8d6906d"
      },
      "outputs": [
        {
          "output_type": "display_data",
          "data": {
            "text/plain": [
              "1.1782412004854905"
            ]
          },
          "metadata": {}
        }
      ],
      "source": [
        "# Code here\n",
        "display(df['away_score'].mean())\n"
      ]
    },
    {
      "cell_type": "markdown",
      "id": "c6044d75",
      "metadata": {
        "id": "c6044d75"
      },
      "source": [
        "### Q3: What is the country with the highest overall home score?\n",
        "\n",
        "Hint: You will need to group the data by country, then get the sum of home scores for each country. You can use the `idxmax()` function to find the index(country) with the highest sum."
      ]
    },
    {
      "cell_type": "code",
      "execution_count": 7,
      "id": "e5d93b04",
      "metadata": {
        "colab": {
          "base_uri": "https://localhost:8080/",
          "height": 36
        },
        "id": "e5d93b04",
        "outputId": "6238ad9d-6fd9-486a-b85d-10babd7ab80e"
      },
      "outputs": [
        {
          "output_type": "execute_result",
          "data": {
            "text/plain": [
              "'Brazil'"
            ],
            "application/vnd.google.colaboratory.intrinsic+json": {
              "type": "string"
            }
          },
          "metadata": {},
          "execution_count": 7
        }
      ],
      "source": [
        "# Code here\n",
        "\n",
        "df.reset_index().groupby(['home_team'])['home_score'].sum().idxmax()"
      ]
    },
    {
      "cell_type": "markdown",
      "id": "47e0f275",
      "metadata": {
        "id": "47e0f275"
      },
      "source": [
        "### Q4: What are the top 3 type of tournaments?\n",
        "\n",
        "Hint: You can use the `value_counts()` method to count the occurences of each unique value in the _'tournament'_ column."
      ]
    },
    {
      "cell_type": "code",
      "execution_count": 8,
      "id": "2d65e4e3",
      "metadata": {
        "colab": {
          "base_uri": "https://localhost:8080/"
        },
        "id": "2d65e4e3",
        "outputId": "6b9cee44-1ce7-4f6c-e77d-d2d9bed31436"
      },
      "outputs": [
        {
          "output_type": "execute_result",
          "data": {
            "text/plain": [
              "tournament\n",
              "Friendly                        17773\n",
              "FIFA World Cup qualification     8016\n",
              "UEFA Euro qualification          2815\n",
              "Name: count, dtype: int64"
            ]
          },
          "metadata": {},
          "execution_count": 8
        }
      ],
      "source": [
        "# Code here\n",
        "\n",
        "df['tournament'].value_counts().head(3)"
      ]
    },
    {
      "cell_type": "markdown",
      "id": "0bdc8158",
      "metadata": {
        "id": "0bdc8158"
      },
      "source": [
        "### Q5: Which country has the highest overall FIFA World Cup goals?\n",
        "\n",
        "To answer this question, consider breaking down your solution into 3 steps.\n",
        "\n",
        "**5.1 Create a new dataframe (fifa_df) that only contains rows where the \"tournament\" column == 'FIFA World Cup'.**"
      ]
    },
    {
      "cell_type": "code",
      "execution_count": 9,
      "id": "db30530c",
      "metadata": {
        "colab": {
          "base_uri": "https://localhost:8080/",
          "height": 313
        },
        "id": "db30530c",
        "outputId": "09760abe-1d45-4806-ea8a-a0c8cf3e1930"
      },
      "outputs": [
        {
          "output_type": "execute_result",
          "data": {
            "text/plain": [
              "            date  home_team      away_team  home_score  away_score  \\\n",
              "1311  1930-07-13    Belgium  United States           0           3   \n",
              "1312  1930-07-13     France         Mexico           4           1   \n",
              "1313  1930-07-14     Brazil     Yugoslavia           1           2   \n",
              "1314  1930-07-14       Peru        Romania           1           3   \n",
              "1315  1930-07-15  Argentina         France           1           0   \n",
              "\n",
              "          tournament        city  country  neutral  \n",
              "1311  FIFA World Cup  Montevideo  Uruguay     True  \n",
              "1312  FIFA World Cup  Montevideo  Uruguay     True  \n",
              "1313  FIFA World Cup  Montevideo  Uruguay     True  \n",
              "1314  FIFA World Cup  Montevideo  Uruguay     True  \n",
              "1315  FIFA World Cup  Montevideo  Uruguay     True  "
            ],
            "text/html": [
              "\n",
              "  <div id=\"df-7b3f1b8e-5a4e-47f8-9950-8525f2f76253\" class=\"colab-df-container\">\n",
              "    <div>\n",
              "<style scoped>\n",
              "    .dataframe tbody tr th:only-of-type {\n",
              "        vertical-align: middle;\n",
              "    }\n",
              "\n",
              "    .dataframe tbody tr th {\n",
              "        vertical-align: top;\n",
              "    }\n",
              "\n",
              "    .dataframe thead th {\n",
              "        text-align: right;\n",
              "    }\n",
              "</style>\n",
              "<table border=\"1\" class=\"dataframe\">\n",
              "  <thead>\n",
              "    <tr style=\"text-align: right;\">\n",
              "      <th></th>\n",
              "      <th>date</th>\n",
              "      <th>home_team</th>\n",
              "      <th>away_team</th>\n",
              "      <th>home_score</th>\n",
              "      <th>away_score</th>\n",
              "      <th>tournament</th>\n",
              "      <th>city</th>\n",
              "      <th>country</th>\n",
              "      <th>neutral</th>\n",
              "    </tr>\n",
              "  </thead>\n",
              "  <tbody>\n",
              "    <tr>\n",
              "      <th>1311</th>\n",
              "      <td>1930-07-13</td>\n",
              "      <td>Belgium</td>\n",
              "      <td>United States</td>\n",
              "      <td>0</td>\n",
              "      <td>3</td>\n",
              "      <td>FIFA World Cup</td>\n",
              "      <td>Montevideo</td>\n",
              "      <td>Uruguay</td>\n",
              "      <td>True</td>\n",
              "    </tr>\n",
              "    <tr>\n",
              "      <th>1312</th>\n",
              "      <td>1930-07-13</td>\n",
              "      <td>France</td>\n",
              "      <td>Mexico</td>\n",
              "      <td>4</td>\n",
              "      <td>1</td>\n",
              "      <td>FIFA World Cup</td>\n",
              "      <td>Montevideo</td>\n",
              "      <td>Uruguay</td>\n",
              "      <td>True</td>\n",
              "    </tr>\n",
              "    <tr>\n",
              "      <th>1313</th>\n",
              "      <td>1930-07-14</td>\n",
              "      <td>Brazil</td>\n",
              "      <td>Yugoslavia</td>\n",
              "      <td>1</td>\n",
              "      <td>2</td>\n",
              "      <td>FIFA World Cup</td>\n",
              "      <td>Montevideo</td>\n",
              "      <td>Uruguay</td>\n",
              "      <td>True</td>\n",
              "    </tr>\n",
              "    <tr>\n",
              "      <th>1314</th>\n",
              "      <td>1930-07-14</td>\n",
              "      <td>Peru</td>\n",
              "      <td>Romania</td>\n",
              "      <td>1</td>\n",
              "      <td>3</td>\n",
              "      <td>FIFA World Cup</td>\n",
              "      <td>Montevideo</td>\n",
              "      <td>Uruguay</td>\n",
              "      <td>True</td>\n",
              "    </tr>\n",
              "    <tr>\n",
              "      <th>1315</th>\n",
              "      <td>1930-07-15</td>\n",
              "      <td>Argentina</td>\n",
              "      <td>France</td>\n",
              "      <td>1</td>\n",
              "      <td>0</td>\n",
              "      <td>FIFA World Cup</td>\n",
              "      <td>Montevideo</td>\n",
              "      <td>Uruguay</td>\n",
              "      <td>True</td>\n",
              "    </tr>\n",
              "  </tbody>\n",
              "</table>\n",
              "</div>\n",
              "    <div class=\"colab-df-buttons\">\n",
              "\n",
              "  <div class=\"colab-df-container\">\n",
              "    <button class=\"colab-df-convert\" onclick=\"convertToInteractive('df-7b3f1b8e-5a4e-47f8-9950-8525f2f76253')\"\n",
              "            title=\"Convert this dataframe to an interactive table.\"\n",
              "            style=\"display:none;\">\n",
              "\n",
              "  <svg xmlns=\"http://www.w3.org/2000/svg\" height=\"24px\" viewBox=\"0 -960 960 960\">\n",
              "    <path d=\"M120-120v-720h720v720H120Zm60-500h600v-160H180v160Zm220 220h160v-160H400v160Zm0 220h160v-160H400v160ZM180-400h160v-160H180v160Zm440 0h160v-160H620v160ZM180-180h160v-160H180v160Zm440 0h160v-160H620v160Z\"/>\n",
              "  </svg>\n",
              "    </button>\n",
              "\n",
              "  <style>\n",
              "    .colab-df-container {\n",
              "      display:flex;\n",
              "      gap: 12px;\n",
              "    }\n",
              "\n",
              "    .colab-df-convert {\n",
              "      background-color: #E8F0FE;\n",
              "      border: none;\n",
              "      border-radius: 50%;\n",
              "      cursor: pointer;\n",
              "      display: none;\n",
              "      fill: #1967D2;\n",
              "      height: 32px;\n",
              "      padding: 0 0 0 0;\n",
              "      width: 32px;\n",
              "    }\n",
              "\n",
              "    .colab-df-convert:hover {\n",
              "      background-color: #E2EBFA;\n",
              "      box-shadow: 0px 1px 2px rgba(60, 64, 67, 0.3), 0px 1px 3px 1px rgba(60, 64, 67, 0.15);\n",
              "      fill: #174EA6;\n",
              "    }\n",
              "\n",
              "    .colab-df-buttons div {\n",
              "      margin-bottom: 4px;\n",
              "    }\n",
              "\n",
              "    [theme=dark] .colab-df-convert {\n",
              "      background-color: #3B4455;\n",
              "      fill: #D2E3FC;\n",
              "    }\n",
              "\n",
              "    [theme=dark] .colab-df-convert:hover {\n",
              "      background-color: #434B5C;\n",
              "      box-shadow: 0px 1px 3px 1px rgba(0, 0, 0, 0.15);\n",
              "      filter: drop-shadow(0px 1px 2px rgba(0, 0, 0, 0.3));\n",
              "      fill: #FFFFFF;\n",
              "    }\n",
              "  </style>\n",
              "\n",
              "    <script>\n",
              "      const buttonEl =\n",
              "        document.querySelector('#df-7b3f1b8e-5a4e-47f8-9950-8525f2f76253 button.colab-df-convert');\n",
              "      buttonEl.style.display =\n",
              "        google.colab.kernel.accessAllowed ? 'block' : 'none';\n",
              "\n",
              "      async function convertToInteractive(key) {\n",
              "        const element = document.querySelector('#df-7b3f1b8e-5a4e-47f8-9950-8525f2f76253');\n",
              "        const dataTable =\n",
              "          await google.colab.kernel.invokeFunction('convertToInteractive',\n",
              "                                                    [key], {});\n",
              "        if (!dataTable) return;\n",
              "\n",
              "        const docLinkHtml = 'Like what you see? Visit the ' +\n",
              "          '<a target=\"_blank\" href=https://colab.research.google.com/notebooks/data_table.ipynb>data table notebook</a>'\n",
              "          + ' to learn more about interactive tables.';\n",
              "        element.innerHTML = '';\n",
              "        dataTable['output_type'] = 'display_data';\n",
              "        await google.colab.output.renderOutput(dataTable, element);\n",
              "        const docLink = document.createElement('div');\n",
              "        docLink.innerHTML = docLinkHtml;\n",
              "        element.appendChild(docLink);\n",
              "      }\n",
              "    </script>\n",
              "  </div>\n",
              "\n",
              "\n",
              "<div id=\"df-1f0fd277-b78c-4b5d-ac2b-50809110f77b\">\n",
              "  <button class=\"colab-df-quickchart\" onclick=\"quickchart('df-1f0fd277-b78c-4b5d-ac2b-50809110f77b')\"\n",
              "            title=\"Suggest charts\"\n",
              "            style=\"display:none;\">\n",
              "\n",
              "<svg xmlns=\"http://www.w3.org/2000/svg\" height=\"24px\"viewBox=\"0 0 24 24\"\n",
              "     width=\"24px\">\n",
              "    <g>\n",
              "        <path d=\"M19 3H5c-1.1 0-2 .9-2 2v14c0 1.1.9 2 2 2h14c1.1 0 2-.9 2-2V5c0-1.1-.9-2-2-2zM9 17H7v-7h2v7zm4 0h-2V7h2v10zm4 0h-2v-4h2v4z\"/>\n",
              "    </g>\n",
              "</svg>\n",
              "  </button>\n",
              "\n",
              "<style>\n",
              "  .colab-df-quickchart {\n",
              "      --bg-color: #E8F0FE;\n",
              "      --fill-color: #1967D2;\n",
              "      --hover-bg-color: #E2EBFA;\n",
              "      --hover-fill-color: #174EA6;\n",
              "      --disabled-fill-color: #AAA;\n",
              "      --disabled-bg-color: #DDD;\n",
              "  }\n",
              "\n",
              "  [theme=dark] .colab-df-quickchart {\n",
              "      --bg-color: #3B4455;\n",
              "      --fill-color: #D2E3FC;\n",
              "      --hover-bg-color: #434B5C;\n",
              "      --hover-fill-color: #FFFFFF;\n",
              "      --disabled-bg-color: #3B4455;\n",
              "      --disabled-fill-color: #666;\n",
              "  }\n",
              "\n",
              "  .colab-df-quickchart {\n",
              "    background-color: var(--bg-color);\n",
              "    border: none;\n",
              "    border-radius: 50%;\n",
              "    cursor: pointer;\n",
              "    display: none;\n",
              "    fill: var(--fill-color);\n",
              "    height: 32px;\n",
              "    padding: 0;\n",
              "    width: 32px;\n",
              "  }\n",
              "\n",
              "  .colab-df-quickchart:hover {\n",
              "    background-color: var(--hover-bg-color);\n",
              "    box-shadow: 0 1px 2px rgba(60, 64, 67, 0.3), 0 1px 3px 1px rgba(60, 64, 67, 0.15);\n",
              "    fill: var(--button-hover-fill-color);\n",
              "  }\n",
              "\n",
              "  .colab-df-quickchart-complete:disabled,\n",
              "  .colab-df-quickchart-complete:disabled:hover {\n",
              "    background-color: var(--disabled-bg-color);\n",
              "    fill: var(--disabled-fill-color);\n",
              "    box-shadow: none;\n",
              "  }\n",
              "\n",
              "  .colab-df-spinner {\n",
              "    border: 2px solid var(--fill-color);\n",
              "    border-color: transparent;\n",
              "    border-bottom-color: var(--fill-color);\n",
              "    animation:\n",
              "      spin 1s steps(1) infinite;\n",
              "  }\n",
              "\n",
              "  @keyframes spin {\n",
              "    0% {\n",
              "      border-color: transparent;\n",
              "      border-bottom-color: var(--fill-color);\n",
              "      border-left-color: var(--fill-color);\n",
              "    }\n",
              "    20% {\n",
              "      border-color: transparent;\n",
              "      border-left-color: var(--fill-color);\n",
              "      border-top-color: var(--fill-color);\n",
              "    }\n",
              "    30% {\n",
              "      border-color: transparent;\n",
              "      border-left-color: var(--fill-color);\n",
              "      border-top-color: var(--fill-color);\n",
              "      border-right-color: var(--fill-color);\n",
              "    }\n",
              "    40% {\n",
              "      border-color: transparent;\n",
              "      border-right-color: var(--fill-color);\n",
              "      border-top-color: var(--fill-color);\n",
              "    }\n",
              "    60% {\n",
              "      border-color: transparent;\n",
              "      border-right-color: var(--fill-color);\n",
              "    }\n",
              "    80% {\n",
              "      border-color: transparent;\n",
              "      border-right-color: var(--fill-color);\n",
              "      border-bottom-color: var(--fill-color);\n",
              "    }\n",
              "    90% {\n",
              "      border-color: transparent;\n",
              "      border-bottom-color: var(--fill-color);\n",
              "    }\n",
              "  }\n",
              "</style>\n",
              "\n",
              "  <script>\n",
              "    async function quickchart(key) {\n",
              "      const quickchartButtonEl =\n",
              "        document.querySelector('#' + key + ' button');\n",
              "      quickchartButtonEl.disabled = true;  // To prevent multiple clicks.\n",
              "      quickchartButtonEl.classList.add('colab-df-spinner');\n",
              "      try {\n",
              "        const charts = await google.colab.kernel.invokeFunction(\n",
              "            'suggestCharts', [key], {});\n",
              "      } catch (error) {\n",
              "        console.error('Error during call to suggestCharts:', error);\n",
              "      }\n",
              "      quickchartButtonEl.classList.remove('colab-df-spinner');\n",
              "      quickchartButtonEl.classList.add('colab-df-quickchart-complete');\n",
              "    }\n",
              "    (() => {\n",
              "      let quickchartButtonEl =\n",
              "        document.querySelector('#df-1f0fd277-b78c-4b5d-ac2b-50809110f77b button');\n",
              "      quickchartButtonEl.style.display =\n",
              "        google.colab.kernel.accessAllowed ? 'block' : 'none';\n",
              "    })();\n",
              "  </script>\n",
              "</div>\n",
              "\n",
              "    </div>\n",
              "  </div>\n"
            ],
            "application/vnd.google.colaboratory.intrinsic+json": {
              "type": "dataframe",
              "variable_name": "fifa_df",
              "repr_error": "0"
            }
          },
          "metadata": {},
          "execution_count": 9
        }
      ],
      "source": [
        "# Code here\n",
        "\n",
        "fifa_df=df.loc[df['tournament'] == 'FIFA World Cup']\n",
        "fifa_df.head()"
      ]
    },
    {
      "cell_type": "markdown",
      "id": "c06b0011",
      "metadata": {
        "id": "c06b0011"
      },
      "source": [
        "**5.2 In your new fifa_df, create a new _'total_score'_ column that sums _'home_score'_ + _'away_score'_ for each row.**\n",
        "\n",
        "PS. If you get a \"SettingWithCopyWarning\", please ignore it."
      ]
    },
    {
      "cell_type": "code",
      "execution_count": 10,
      "id": "8dd33359",
      "metadata": {
        "colab": {
          "base_uri": "https://localhost:8080/",
          "height": 660
        },
        "id": "8dd33359",
        "outputId": "84d00d43-5218-4558-bbfc-fe486ad8bf15"
      },
      "outputs": [
        {
          "output_type": "stream",
          "name": "stderr",
          "text": [
            "<ipython-input-10-11c74eba599f>:2: SettingWithCopyWarning: \n",
            "A value is trying to be set on a copy of a slice from a DataFrame.\n",
            "Try using .loc[row_indexer,col_indexer] = value instead\n",
            "\n",
            "See the caveats in the documentation: https://pandas.pydata.org/pandas-docs/stable/user_guide/indexing.html#returning-a-view-versus-a-copy\n",
            "  fifa_df['total_score']=fifa_df['home_score']+fifa_df['away_score']\n"
          ]
        },
        {
          "output_type": "execute_result",
          "data": {
            "text/plain": [
              "            date  home_team      away_team  home_score  away_score  \\\n",
              "1311  1930-07-13    Belgium  United States           0           3   \n",
              "1312  1930-07-13     France         Mexico           4           1   \n",
              "1313  1930-07-14     Brazil     Yugoslavia           1           2   \n",
              "1314  1930-07-14       Peru        Romania           1           3   \n",
              "1315  1930-07-15  Argentina         France           1           0   \n",
              "1316  1930-07-16      Chile         Mexico           3           0   \n",
              "1317  1930-07-17    Bolivia     Yugoslavia           0           4   \n",
              "1318  1930-07-17   Paraguay  United States           0           3   \n",
              "1320  1930-07-18    Uruguay           Peru           1           0   \n",
              "1321  1930-07-19  Argentina         Mexico           6           3   \n",
              "\n",
              "          tournament        city  country  neutral  total_score  \n",
              "1311  FIFA World Cup  Montevideo  Uruguay     True            3  \n",
              "1312  FIFA World Cup  Montevideo  Uruguay     True            5  \n",
              "1313  FIFA World Cup  Montevideo  Uruguay     True            3  \n",
              "1314  FIFA World Cup  Montevideo  Uruguay     True            4  \n",
              "1315  FIFA World Cup  Montevideo  Uruguay     True            1  \n",
              "1316  FIFA World Cup  Montevideo  Uruguay     True            3  \n",
              "1317  FIFA World Cup  Montevideo  Uruguay     True            4  \n",
              "1318  FIFA World Cup  Montevideo  Uruguay     True            3  \n",
              "1320  FIFA World Cup  Montevideo  Uruguay    False            1  \n",
              "1321  FIFA World Cup  Montevideo  Uruguay     True            9  "
            ],
            "text/html": [
              "\n",
              "  <div id=\"df-24496e99-c049-4359-af8b-a628d484338a\" class=\"colab-df-container\">\n",
              "    <div>\n",
              "<style scoped>\n",
              "    .dataframe tbody tr th:only-of-type {\n",
              "        vertical-align: middle;\n",
              "    }\n",
              "\n",
              "    .dataframe tbody tr th {\n",
              "        vertical-align: top;\n",
              "    }\n",
              "\n",
              "    .dataframe thead th {\n",
              "        text-align: right;\n",
              "    }\n",
              "</style>\n",
              "<table border=\"1\" class=\"dataframe\">\n",
              "  <thead>\n",
              "    <tr style=\"text-align: right;\">\n",
              "      <th></th>\n",
              "      <th>date</th>\n",
              "      <th>home_team</th>\n",
              "      <th>away_team</th>\n",
              "      <th>home_score</th>\n",
              "      <th>away_score</th>\n",
              "      <th>tournament</th>\n",
              "      <th>city</th>\n",
              "      <th>country</th>\n",
              "      <th>neutral</th>\n",
              "      <th>total_score</th>\n",
              "    </tr>\n",
              "  </thead>\n",
              "  <tbody>\n",
              "    <tr>\n",
              "      <th>1311</th>\n",
              "      <td>1930-07-13</td>\n",
              "      <td>Belgium</td>\n",
              "      <td>United States</td>\n",
              "      <td>0</td>\n",
              "      <td>3</td>\n",
              "      <td>FIFA World Cup</td>\n",
              "      <td>Montevideo</td>\n",
              "      <td>Uruguay</td>\n",
              "      <td>True</td>\n",
              "      <td>3</td>\n",
              "    </tr>\n",
              "    <tr>\n",
              "      <th>1312</th>\n",
              "      <td>1930-07-13</td>\n",
              "      <td>France</td>\n",
              "      <td>Mexico</td>\n",
              "      <td>4</td>\n",
              "      <td>1</td>\n",
              "      <td>FIFA World Cup</td>\n",
              "      <td>Montevideo</td>\n",
              "      <td>Uruguay</td>\n",
              "      <td>True</td>\n",
              "      <td>5</td>\n",
              "    </tr>\n",
              "    <tr>\n",
              "      <th>1313</th>\n",
              "      <td>1930-07-14</td>\n",
              "      <td>Brazil</td>\n",
              "      <td>Yugoslavia</td>\n",
              "      <td>1</td>\n",
              "      <td>2</td>\n",
              "      <td>FIFA World Cup</td>\n",
              "      <td>Montevideo</td>\n",
              "      <td>Uruguay</td>\n",
              "      <td>True</td>\n",
              "      <td>3</td>\n",
              "    </tr>\n",
              "    <tr>\n",
              "      <th>1314</th>\n",
              "      <td>1930-07-14</td>\n",
              "      <td>Peru</td>\n",
              "      <td>Romania</td>\n",
              "      <td>1</td>\n",
              "      <td>3</td>\n",
              "      <td>FIFA World Cup</td>\n",
              "      <td>Montevideo</td>\n",
              "      <td>Uruguay</td>\n",
              "      <td>True</td>\n",
              "      <td>4</td>\n",
              "    </tr>\n",
              "    <tr>\n",
              "      <th>1315</th>\n",
              "      <td>1930-07-15</td>\n",
              "      <td>Argentina</td>\n",
              "      <td>France</td>\n",
              "      <td>1</td>\n",
              "      <td>0</td>\n",
              "      <td>FIFA World Cup</td>\n",
              "      <td>Montevideo</td>\n",
              "      <td>Uruguay</td>\n",
              "      <td>True</td>\n",
              "      <td>1</td>\n",
              "    </tr>\n",
              "    <tr>\n",
              "      <th>1316</th>\n",
              "      <td>1930-07-16</td>\n",
              "      <td>Chile</td>\n",
              "      <td>Mexico</td>\n",
              "      <td>3</td>\n",
              "      <td>0</td>\n",
              "      <td>FIFA World Cup</td>\n",
              "      <td>Montevideo</td>\n",
              "      <td>Uruguay</td>\n",
              "      <td>True</td>\n",
              "      <td>3</td>\n",
              "    </tr>\n",
              "    <tr>\n",
              "      <th>1317</th>\n",
              "      <td>1930-07-17</td>\n",
              "      <td>Bolivia</td>\n",
              "      <td>Yugoslavia</td>\n",
              "      <td>0</td>\n",
              "      <td>4</td>\n",
              "      <td>FIFA World Cup</td>\n",
              "      <td>Montevideo</td>\n",
              "      <td>Uruguay</td>\n",
              "      <td>True</td>\n",
              "      <td>4</td>\n",
              "    </tr>\n",
              "    <tr>\n",
              "      <th>1318</th>\n",
              "      <td>1930-07-17</td>\n",
              "      <td>Paraguay</td>\n",
              "      <td>United States</td>\n",
              "      <td>0</td>\n",
              "      <td>3</td>\n",
              "      <td>FIFA World Cup</td>\n",
              "      <td>Montevideo</td>\n",
              "      <td>Uruguay</td>\n",
              "      <td>True</td>\n",
              "      <td>3</td>\n",
              "    </tr>\n",
              "    <tr>\n",
              "      <th>1320</th>\n",
              "      <td>1930-07-18</td>\n",
              "      <td>Uruguay</td>\n",
              "      <td>Peru</td>\n",
              "      <td>1</td>\n",
              "      <td>0</td>\n",
              "      <td>FIFA World Cup</td>\n",
              "      <td>Montevideo</td>\n",
              "      <td>Uruguay</td>\n",
              "      <td>False</td>\n",
              "      <td>1</td>\n",
              "    </tr>\n",
              "    <tr>\n",
              "      <th>1321</th>\n",
              "      <td>1930-07-19</td>\n",
              "      <td>Argentina</td>\n",
              "      <td>Mexico</td>\n",
              "      <td>6</td>\n",
              "      <td>3</td>\n",
              "      <td>FIFA World Cup</td>\n",
              "      <td>Montevideo</td>\n",
              "      <td>Uruguay</td>\n",
              "      <td>True</td>\n",
              "      <td>9</td>\n",
              "    </tr>\n",
              "  </tbody>\n",
              "</table>\n",
              "</div>\n",
              "    <div class=\"colab-df-buttons\">\n",
              "\n",
              "  <div class=\"colab-df-container\">\n",
              "    <button class=\"colab-df-convert\" onclick=\"convertToInteractive('df-24496e99-c049-4359-af8b-a628d484338a')\"\n",
              "            title=\"Convert this dataframe to an interactive table.\"\n",
              "            style=\"display:none;\">\n",
              "\n",
              "  <svg xmlns=\"http://www.w3.org/2000/svg\" height=\"24px\" viewBox=\"0 -960 960 960\">\n",
              "    <path d=\"M120-120v-720h720v720H120Zm60-500h600v-160H180v160Zm220 220h160v-160H400v160Zm0 220h160v-160H400v160ZM180-400h160v-160H180v160Zm440 0h160v-160H620v160ZM180-180h160v-160H180v160Zm440 0h160v-160H620v160Z\"/>\n",
              "  </svg>\n",
              "    </button>\n",
              "\n",
              "  <style>\n",
              "    .colab-df-container {\n",
              "      display:flex;\n",
              "      gap: 12px;\n",
              "    }\n",
              "\n",
              "    .colab-df-convert {\n",
              "      background-color: #E8F0FE;\n",
              "      border: none;\n",
              "      border-radius: 50%;\n",
              "      cursor: pointer;\n",
              "      display: none;\n",
              "      fill: #1967D2;\n",
              "      height: 32px;\n",
              "      padding: 0 0 0 0;\n",
              "      width: 32px;\n",
              "    }\n",
              "\n",
              "    .colab-df-convert:hover {\n",
              "      background-color: #E2EBFA;\n",
              "      box-shadow: 0px 1px 2px rgba(60, 64, 67, 0.3), 0px 1px 3px 1px rgba(60, 64, 67, 0.15);\n",
              "      fill: #174EA6;\n",
              "    }\n",
              "\n",
              "    .colab-df-buttons div {\n",
              "      margin-bottom: 4px;\n",
              "    }\n",
              "\n",
              "    [theme=dark] .colab-df-convert {\n",
              "      background-color: #3B4455;\n",
              "      fill: #D2E3FC;\n",
              "    }\n",
              "\n",
              "    [theme=dark] .colab-df-convert:hover {\n",
              "      background-color: #434B5C;\n",
              "      box-shadow: 0px 1px 3px 1px rgba(0, 0, 0, 0.15);\n",
              "      filter: drop-shadow(0px 1px 2px rgba(0, 0, 0, 0.3));\n",
              "      fill: #FFFFFF;\n",
              "    }\n",
              "  </style>\n",
              "\n",
              "    <script>\n",
              "      const buttonEl =\n",
              "        document.querySelector('#df-24496e99-c049-4359-af8b-a628d484338a button.colab-df-convert');\n",
              "      buttonEl.style.display =\n",
              "        google.colab.kernel.accessAllowed ? 'block' : 'none';\n",
              "\n",
              "      async function convertToInteractive(key) {\n",
              "        const element = document.querySelector('#df-24496e99-c049-4359-af8b-a628d484338a');\n",
              "        const dataTable =\n",
              "          await google.colab.kernel.invokeFunction('convertToInteractive',\n",
              "                                                    [key], {});\n",
              "        if (!dataTable) return;\n",
              "\n",
              "        const docLinkHtml = 'Like what you see? Visit the ' +\n",
              "          '<a target=\"_blank\" href=https://colab.research.google.com/notebooks/data_table.ipynb>data table notebook</a>'\n",
              "          + ' to learn more about interactive tables.';\n",
              "        element.innerHTML = '';\n",
              "        dataTable['output_type'] = 'display_data';\n",
              "        await google.colab.output.renderOutput(dataTable, element);\n",
              "        const docLink = document.createElement('div');\n",
              "        docLink.innerHTML = docLinkHtml;\n",
              "        element.appendChild(docLink);\n",
              "      }\n",
              "    </script>\n",
              "  </div>\n",
              "\n",
              "\n",
              "<div id=\"df-c24df1e3-4135-418b-9941-071da69fc70c\">\n",
              "  <button class=\"colab-df-quickchart\" onclick=\"quickchart('df-c24df1e3-4135-418b-9941-071da69fc70c')\"\n",
              "            title=\"Suggest charts\"\n",
              "            style=\"display:none;\">\n",
              "\n",
              "<svg xmlns=\"http://www.w3.org/2000/svg\" height=\"24px\"viewBox=\"0 0 24 24\"\n",
              "     width=\"24px\">\n",
              "    <g>\n",
              "        <path d=\"M19 3H5c-1.1 0-2 .9-2 2v14c0 1.1.9 2 2 2h14c1.1 0 2-.9 2-2V5c0-1.1-.9-2-2-2zM9 17H7v-7h2v7zm4 0h-2V7h2v10zm4 0h-2v-4h2v4z\"/>\n",
              "    </g>\n",
              "</svg>\n",
              "  </button>\n",
              "\n",
              "<style>\n",
              "  .colab-df-quickchart {\n",
              "      --bg-color: #E8F0FE;\n",
              "      --fill-color: #1967D2;\n",
              "      --hover-bg-color: #E2EBFA;\n",
              "      --hover-fill-color: #174EA6;\n",
              "      --disabled-fill-color: #AAA;\n",
              "      --disabled-bg-color: #DDD;\n",
              "  }\n",
              "\n",
              "  [theme=dark] .colab-df-quickchart {\n",
              "      --bg-color: #3B4455;\n",
              "      --fill-color: #D2E3FC;\n",
              "      --hover-bg-color: #434B5C;\n",
              "      --hover-fill-color: #FFFFFF;\n",
              "      --disabled-bg-color: #3B4455;\n",
              "      --disabled-fill-color: #666;\n",
              "  }\n",
              "\n",
              "  .colab-df-quickchart {\n",
              "    background-color: var(--bg-color);\n",
              "    border: none;\n",
              "    border-radius: 50%;\n",
              "    cursor: pointer;\n",
              "    display: none;\n",
              "    fill: var(--fill-color);\n",
              "    height: 32px;\n",
              "    padding: 0;\n",
              "    width: 32px;\n",
              "  }\n",
              "\n",
              "  .colab-df-quickchart:hover {\n",
              "    background-color: var(--hover-bg-color);\n",
              "    box-shadow: 0 1px 2px rgba(60, 64, 67, 0.3), 0 1px 3px 1px rgba(60, 64, 67, 0.15);\n",
              "    fill: var(--button-hover-fill-color);\n",
              "  }\n",
              "\n",
              "  .colab-df-quickchart-complete:disabled,\n",
              "  .colab-df-quickchart-complete:disabled:hover {\n",
              "    background-color: var(--disabled-bg-color);\n",
              "    fill: var(--disabled-fill-color);\n",
              "    box-shadow: none;\n",
              "  }\n",
              "\n",
              "  .colab-df-spinner {\n",
              "    border: 2px solid var(--fill-color);\n",
              "    border-color: transparent;\n",
              "    border-bottom-color: var(--fill-color);\n",
              "    animation:\n",
              "      spin 1s steps(1) infinite;\n",
              "  }\n",
              "\n",
              "  @keyframes spin {\n",
              "    0% {\n",
              "      border-color: transparent;\n",
              "      border-bottom-color: var(--fill-color);\n",
              "      border-left-color: var(--fill-color);\n",
              "    }\n",
              "    20% {\n",
              "      border-color: transparent;\n",
              "      border-left-color: var(--fill-color);\n",
              "      border-top-color: var(--fill-color);\n",
              "    }\n",
              "    30% {\n",
              "      border-color: transparent;\n",
              "      border-left-color: var(--fill-color);\n",
              "      border-top-color: var(--fill-color);\n",
              "      border-right-color: var(--fill-color);\n",
              "    }\n",
              "    40% {\n",
              "      border-color: transparent;\n",
              "      border-right-color: var(--fill-color);\n",
              "      border-top-color: var(--fill-color);\n",
              "    }\n",
              "    60% {\n",
              "      border-color: transparent;\n",
              "      border-right-color: var(--fill-color);\n",
              "    }\n",
              "    80% {\n",
              "      border-color: transparent;\n",
              "      border-right-color: var(--fill-color);\n",
              "      border-bottom-color: var(--fill-color);\n",
              "    }\n",
              "    90% {\n",
              "      border-color: transparent;\n",
              "      border-bottom-color: var(--fill-color);\n",
              "    }\n",
              "  }\n",
              "</style>\n",
              "\n",
              "  <script>\n",
              "    async function quickchart(key) {\n",
              "      const quickchartButtonEl =\n",
              "        document.querySelector('#' + key + ' button');\n",
              "      quickchartButtonEl.disabled = true;  // To prevent multiple clicks.\n",
              "      quickchartButtonEl.classList.add('colab-df-spinner');\n",
              "      try {\n",
              "        const charts = await google.colab.kernel.invokeFunction(\n",
              "            'suggestCharts', [key], {});\n",
              "      } catch (error) {\n",
              "        console.error('Error during call to suggestCharts:', error);\n",
              "      }\n",
              "      quickchartButtonEl.classList.remove('colab-df-spinner');\n",
              "      quickchartButtonEl.classList.add('colab-df-quickchart-complete');\n",
              "    }\n",
              "    (() => {\n",
              "      let quickchartButtonEl =\n",
              "        document.querySelector('#df-c24df1e3-4135-418b-9941-071da69fc70c button');\n",
              "      quickchartButtonEl.style.display =\n",
              "        google.colab.kernel.accessAllowed ? 'block' : 'none';\n",
              "    })();\n",
              "  </script>\n",
              "</div>\n",
              "\n",
              "    </div>\n",
              "  </div>\n"
            ],
            "application/vnd.google.colaboratory.intrinsic+json": {
              "type": "dataframe",
              "variable_name": "fifa_df",
              "repr_error": "0"
            }
          },
          "metadata": {},
          "execution_count": 10
        }
      ],
      "source": [
        "# Code here\n",
        "fifa_df['total_score']=fifa_df['home_score']+fifa_df['away_score']\n",
        "fifa_df.head(10)\n"
      ]
    },
    {
      "cell_type": "markdown",
      "id": "9b7d48d2",
      "metadata": {
        "id": "9b7d48d2"
      },
      "source": [
        "**5.3 Group your data by country, then get the sum of the _'total_score'_ column. From there, you can use `idxmax()` to find the country with the highest _'total_score'_.**"
      ]
    },
    {
      "cell_type": "code",
      "source": [
        "grouped_hometeam = fifa_df.groupby(['home_team'])['total_score'].sum().sort_values(ascending=False)\n",
        "grouped_hometeam\n"
      ],
      "metadata": {
        "colab": {
          "base_uri": "https://localhost:8080/"
        },
        "id": "73LcTiibVN53",
        "outputId": "8b010a90-ad92-490f-969e-35ebdb302510"
      },
      "id": "73LcTiibVN53",
      "execution_count": 17,
      "outputs": [
        {
          "output_type": "execute_result",
          "data": {
            "text/plain": [
              "home_team\n",
              "Brazil                 268\n",
              "Germany                238\n",
              "Argentina              192\n",
              "France                 144\n",
              "Italy                  109\n",
              "                      ... \n",
              "New Zealand              2\n",
              "Ukraine                  1\n",
              "Norway                   1\n",
              "Angola                   1\n",
              "Trinidad and Tobago      0\n",
              "Name: total_score, Length: 80, dtype: int64"
            ]
          },
          "metadata": {},
          "execution_count": 17
        }
      ]
    },
    {
      "cell_type": "code",
      "source": [
        "grouped_hometeam.isnull().sum()"
      ],
      "metadata": {
        "colab": {
          "base_uri": "https://localhost:8080/"
        },
        "id": "wpE5BWZ-l112",
        "outputId": "42a4b949-ea43-44ed-9b6e-65a19b2f1db7"
      },
      "id": "wpE5BWZ-l112",
      "execution_count": 89,
      "outputs": [
        {
          "output_type": "execute_result",
          "data": {
            "text/plain": [
              "0"
            ]
          },
          "metadata": {},
          "execution_count": 89
        }
      ]
    },
    {
      "cell_type": "code",
      "source": [
        "grouped_awayteam = fifa_df.groupby(['away_team'])['total_score'].sum().sort_values(ascending=False)\n",
        "grouped_awayteam"
      ],
      "metadata": {
        "colab": {
          "base_uri": "https://localhost:8080/"
        },
        "id": "nz2ecyzafiNd",
        "outputId": "62e4ad6f-6743-46c2-e0fb-44cc5da8d03e"
      },
      "id": "nz2ecyzafiNd",
      "execution_count": 14,
      "outputs": [
        {
          "output_type": "execute_result",
          "data": {
            "text/plain": [
              "away_team\n",
              "Germany           124\n",
              "Uruguay           108\n",
              "Mexico            105\n",
              "Italy              96\n",
              "Sweden             89\n",
              "                 ... \n",
              "Czech Republic      3\n",
              "Togo                3\n",
              "Iraq                2\n",
              "Angola              2\n",
              "Bolivia             1\n",
              "Name: total_score, Length: 79, dtype: int64"
            ]
          },
          "metadata": {},
          "execution_count": 14
        }
      ]
    },
    {
      "cell_type": "code",
      "source": [
        "grouped_awayteam.isnull().sum()"
      ],
      "metadata": {
        "colab": {
          "base_uri": "https://localhost:8080/"
        },
        "id": "gVn6O9gFmUGx",
        "outputId": "70472cf2-f5a2-4cd9-c044-ccc9cfa70862"
      },
      "id": "gVn6O9gFmUGx",
      "execution_count": 90,
      "outputs": [
        {
          "output_type": "execute_result",
          "data": {
            "text/plain": [
              "0"
            ]
          },
          "metadata": {},
          "execution_count": 90
        }
      ]
    },
    {
      "cell_type": "code",
      "source": [
        "grouped_country=grouped_hometeam+grouped_awayteam\n",
        "grouped_country.idxmax()"
      ],
      "metadata": {
        "colab": {
          "base_uri": "https://localhost:8080/",
          "height": 36
        },
        "id": "8Q2WasAPh70Y",
        "outputId": "c95ec92f-a20f-4ef7-f652-39465794db4d"
      },
      "id": "8Q2WasAPh70Y",
      "execution_count": 15,
      "outputs": [
        {
          "output_type": "execute_result",
          "data": {
            "text/plain": [
              "'Germany'"
            ],
            "application/vnd.google.colaboratory.intrinsic+json": {
              "type": "string"
            }
          },
          "metadata": {},
          "execution_count": 15
        }
      ]
    },
    {
      "cell_type": "markdown",
      "source": [
        "** Germany is the country with the highest overall FIFA World Cup goals**"
      ],
      "metadata": {
        "id": "jBd0JH4kmE5D"
      },
      "id": "jBd0JH4kmE5D"
    },
    {
      "cell_type": "markdown",
      "source": [
        "****"
      ],
      "metadata": {
        "id": "tRDsZz1Ll9FF"
      },
      "id": "tRDsZz1Ll9FF"
    },
    {
      "cell_type": "code",
      "source": [
        "grouped_country.isnull().sum()"
      ],
      "metadata": {
        "id": "dBISrvbqdOBg",
        "colab": {
          "base_uri": "https://localhost:8080/"
        },
        "outputId": "8bdea306-0187-474e-adbe-be8bfba382dd"
      },
      "id": "dBISrvbqdOBg",
      "execution_count": 91,
      "outputs": [
        {
          "output_type": "execute_result",
          "data": {
            "text/plain": [
              "5"
            ]
          },
          "metadata": {},
          "execution_count": 91
        }
      ]
    },
    {
      "cell_type": "code",
      "source": [
        "grouped_country[grouped_country.isnull()]"
      ],
      "metadata": {
        "colab": {
          "base_uri": "https://localhost:8080/"
        },
        "id": "S-YvsKzpkmZq",
        "outputId": "6d47a3d1-2c35-47b8-c822-d290cc469fdc"
      },
      "id": "S-YvsKzpkmZq",
      "execution_count": 85,
      "outputs": [
        {
          "output_type": "execute_result",
          "data": {
            "text/plain": [
              "Cuba        NaN\n",
              "Indonesia   NaN\n",
              "Israel      NaN\n",
              "Kuwait      NaN\n",
              "Qatar       NaN\n",
              "Name: total_score, dtype: float64"
            ]
          },
          "metadata": {},
          "execution_count": 85
        }
      ]
    }
  ],
  "metadata": {
    "kernelspec": {
      "display_name": "Python 3 (ipykernel)",
      "language": "python",
      "name": "python3"
    },
    "language_info": {
      "codemirror_mode": {
        "name": "ipython",
        "version": 3
      },
      "file_extension": ".py",
      "mimetype": "text/x-python",
      "name": "python",
      "nbconvert_exporter": "python",
      "pygments_lexer": "ipython3",
      "version": "3.11.5"
    },
    "colab": {
      "provenance": [],
      "include_colab_link": true
    }
  },
  "nbformat": 4,
  "nbformat_minor": 5
}