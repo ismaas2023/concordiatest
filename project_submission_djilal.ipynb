{
  "cells": [
    {
      "cell_type": "markdown",
      "metadata": {
        "id": "view-in-github",
        "colab_type": "text"
      },
      "source": [
        "<a href=\"https://colab.research.google.com/github/ismaas2023/concordiatest/blob/main/project_submission_djilal.ipynb\" target=\"_parent\"><img src=\"https://colab.research.google.com/assets/colab-badge.svg\" alt=\"Open In Colab\"/></a>"
      ]
    },
    {
      "cell_type": "markdown",
      "id": "ed175a82",
      "metadata": {
        "id": "ed175a82"
      },
      "source": [
        "# Project Submission\n",
        "\n",
        "**Please use this notebook for your submission.**\n",
        "\n",
        "Make sure to fill out all the required fields and to answer all the questions.\n",
        "\n",
        "You will be working with a dataset that includes the results of international football matches from 1872 to 2024. The matches range from FIFA World Cups to regular friendly matches.\n",
        "\n",
        "At the end of this project, you will have answered the following questions:\n",
        "\n",
        "1. What is the average number of goals for the home team?\n",
        "2. What is the average number of goals for the away team?\n",
        "3. What is the country with the highest overall home score?\n",
        "4. What are the top 3 type of tournaments?\n",
        "5. Which country has the highest overall FIFA World Cup goals?\n",
        "\n",
        "\n",
        "**Submission Requirements:**\n",
        "\n",
        "- Make sure that you run all cells with code in your notebook before submitting.\n",
        "- You can add additional cells of code if you want, but make sure to clean up your notebook, and only leave the code required to answer the questions.\n",
        "\n",
        "\n",
        "_Original Data Source: [Kaggle](https://www.kaggle.com/datasets/martj42/international-football-results-from-1872-to-2017/data)_"
      ]
    },
    {
      "cell_type": "markdown",
      "id": "43e336b8",
      "metadata": {
        "id": "43e336b8"
      },
      "source": [
        "## Step 1: Getting Started\n",
        "\n",
        "You will mainly work with a Python library called Pandas. Pandas is a powerful library that allows us to manipulate data. In order to use Pandas, you first have to import it."
      ]
    },
    {
      "cell_type": "code",
      "execution_count": null,
      "id": "3033fd44",
      "metadata": {
        "id": "3033fd44"
      },
      "outputs": [],
      "source": [
        "import pandas as pd"
      ]
    },
    {
      "cell_type": "markdown",
      "id": "f7e3b7f7",
      "metadata": {
        "id": "f7e3b7f7"
      },
      "source": [
        "## Step 2: Loading and Exporing the Data\n",
        "\n",
        "You can use Pandas to explore and manipulate the _results.csv_ file.\n",
        "You first have to load the csv file into a Pandas dataframe, so you can then analyize the data.\n",
        "\n",
        "When using `pd.read_csv()`, make sure you inlcude the correct path to the csv file, depending on where you saved it when you downloaded it."
      ]
    },
    {
      "cell_type": "code",
      "execution_count": null,
      "id": "2c9de780",
      "metadata": {
        "id": "2c9de780"
      },
      "outputs": [],
      "source": [
        "# First: Load the csv file into a Pandas dataframe (df)\n",
        "\n",
        "df = pd.read_csv('results.csv')"
      ]
    },
    {
      "cell_type": "code",
      "execution_count": null,
      "id": "bb2a11f0",
      "metadata": {
        "id": "bb2a11f0",
        "outputId": "e7de7fe0-0e0d-4833-8ec1-25ca2677bf6a"
      },
      "outputs": [
        {
          "name": "stdout",
          "output_type": "stream",
          "text": [
            "<class 'pandas.core.frame.DataFrame'>\n",
            "RangeIndex: 45315 entries, 0 to 45314\n",
            "Data columns (total 9 columns):\n",
            " #   Column      Non-Null Count  Dtype \n",
            "---  ------      --------------  ----- \n",
            " 0   date        45315 non-null  object\n",
            " 1   home_team   45315 non-null  object\n",
            " 2   away_team   45315 non-null  object\n",
            " 3   home_score  45315 non-null  int64 \n",
            " 4   away_score  45315 non-null  int64 \n",
            " 5   tournament  45315 non-null  object\n",
            " 6   city        45315 non-null  object\n",
            " 7   country     45315 non-null  object\n",
            " 8   neutral     45315 non-null  bool  \n",
            "dtypes: bool(1), int64(2), object(6)\n",
            "memory usage: 2.8+ MB\n"
          ]
        }
      ],
      "source": [
        "# Explore the df\n",
        "\n",
        "df.info()"
      ]
    },
    {
      "cell_type": "markdown",
      "id": "6a2aa881",
      "metadata": {
        "id": "6a2aa881"
      },
      "source": [
        "## Step 3: Data Analysis"
      ]
    },
    {
      "cell_type": "markdown",
      "id": "98b9d5dd",
      "metadata": {
        "id": "98b9d5dd"
      },
      "source": [
        "### Q1: What is the average number of goals for the home team?\n",
        "\n",
        "Hint: You can call the `mean()` method on the _'home_score'_ column."
      ]
    },
    {
      "cell_type": "code",
      "execution_count": null,
      "id": "47662232",
      "metadata": {
        "id": "47662232",
        "outputId": "822d3909-e6dd-4f0f-ddbc-a00e007fadbe"
      },
      "outputs": [
        {
          "data": {
            "text/plain": [
              "1.7393136930376256"
            ]
          },
          "metadata": {},
          "output_type": "display_data"
        }
      ],
      "source": [
        "display(df['home_score'].mean())"
      ]
    },
    {
      "cell_type": "markdown",
      "id": "ce194e01",
      "metadata": {
        "id": "ce194e01"
      },
      "source": [
        "### Q2: What is the average number of goals for the away team?\n",
        "\n",
        "Hint: You can call the `mean()` method on the _'away_score'_ column."
      ]
    },
    {
      "cell_type": "code",
      "execution_count": null,
      "id": "4fb43467",
      "metadata": {
        "id": "4fb43467",
        "outputId": "03a803f9-7660-4cf2-8379-f7c12d392672"
      },
      "outputs": [
        {
          "data": {
            "text/plain": [
              "1.1782412004854905"
            ]
          },
          "metadata": {},
          "output_type": "display_data"
        }
      ],
      "source": [
        "# Code here\n",
        "display(df['away_score'].mean())\n"
      ]
    },
    {
      "cell_type": "markdown",
      "id": "c6044d75",
      "metadata": {
        "id": "c6044d75"
      },
      "source": [
        "### Q3: What is the country with the highest overall home score?\n",
        "\n",
        "Hint: You will need to group the data by country, then get the sum of home scores for each country. You can use the `idxmax()` function to find the index(country) with the highest sum."
      ]
    },
    {
      "cell_type": "code",
      "execution_count": null,
      "id": "e5d93b04",
      "metadata": {
        "id": "e5d93b04",
        "outputId": "4f25ff0d-6f6c-4db8-8834-66dac2c252af"
      },
      "outputs": [
        {
          "data": {
            "text/plain": [
              "'United States'"
            ]
          },
          "execution_count": 35,
          "metadata": {},
          "output_type": "execute_result"
        }
      ],
      "source": [
        "# Code here\n",
        "\n",
        "df.reset_index().groupby(['country'])['home_score'].sum().idxmax()"
      ]
    },
    {
      "cell_type": "markdown",
      "id": "47e0f275",
      "metadata": {
        "id": "47e0f275"
      },
      "source": [
        "### Q4: What are the top 3 type of tournaments?\n",
        "\n",
        "Hint: You can use the `value_counts()` method to count the occurences of each unique value in the _'tournament'_ column."
      ]
    },
    {
      "cell_type": "code",
      "execution_count": null,
      "id": "2d65e4e3",
      "metadata": {
        "id": "2d65e4e3",
        "outputId": "5098f7c2-f008-4604-c1b1-f67a54388ce5"
      },
      "outputs": [
        {
          "data": {
            "text/plain": [
              "tournament\n",
              "Friendly                        17773\n",
              "FIFA World Cup qualification     8016\n",
              "UEFA Euro qualification          2815\n",
              "Name: count, dtype: int64"
            ]
          },
          "execution_count": 39,
          "metadata": {},
          "output_type": "execute_result"
        }
      ],
      "source": [
        "# Code here\n",
        "\n",
        "df['tournament'].value_counts().head(3)"
      ]
    },
    {
      "cell_type": "markdown",
      "id": "0bdc8158",
      "metadata": {
        "id": "0bdc8158"
      },
      "source": [
        "### Q5: Which country has the highest overall FIFA World Cup goals?\n",
        "\n",
        "To answer this question, consider breaking down your solution into 3 steps.\n",
        "\n",
        "**5.1 Create a new dataframe (fifa_df) that only contains rows where the \"tournament\" column == 'FIFA World Cup'.**"
      ]
    },
    {
      "cell_type": "code",
      "execution_count": null,
      "id": "db30530c",
      "metadata": {
        "id": "db30530c",
        "outputId": "5e2d0c4d-8d8f-4ab8-e115-aef1d062e84d"
      },
      "outputs": [
        {
          "data": {
            "text/html": [
              "<div>\n",
              "<style scoped>\n",
              "    .dataframe tbody tr th:only-of-type {\n",
              "        vertical-align: middle;\n",
              "    }\n",
              "\n",
              "    .dataframe tbody tr th {\n",
              "        vertical-align: top;\n",
              "    }\n",
              "\n",
              "    .dataframe thead th {\n",
              "        text-align: right;\n",
              "    }\n",
              "</style>\n",
              "<table border=\"1\" class=\"dataframe\">\n",
              "  <thead>\n",
              "    <tr style=\"text-align: right;\">\n",
              "      <th></th>\n",
              "      <th>date</th>\n",
              "      <th>home_team</th>\n",
              "      <th>away_team</th>\n",
              "      <th>home_score</th>\n",
              "      <th>away_score</th>\n",
              "      <th>tournament</th>\n",
              "      <th>city</th>\n",
              "      <th>country</th>\n",
              "      <th>neutral</th>\n",
              "    </tr>\n",
              "  </thead>\n",
              "  <tbody>\n",
              "    <tr>\n",
              "      <th>1311</th>\n",
              "      <td>1930-07-13</td>\n",
              "      <td>Belgium</td>\n",
              "      <td>United States</td>\n",
              "      <td>0</td>\n",
              "      <td>3</td>\n",
              "      <td>FIFA World Cup</td>\n",
              "      <td>Montevideo</td>\n",
              "      <td>Uruguay</td>\n",
              "      <td>True</td>\n",
              "    </tr>\n",
              "    <tr>\n",
              "      <th>1312</th>\n",
              "      <td>1930-07-13</td>\n",
              "      <td>France</td>\n",
              "      <td>Mexico</td>\n",
              "      <td>4</td>\n",
              "      <td>1</td>\n",
              "      <td>FIFA World Cup</td>\n",
              "      <td>Montevideo</td>\n",
              "      <td>Uruguay</td>\n",
              "      <td>True</td>\n",
              "    </tr>\n",
              "    <tr>\n",
              "      <th>1313</th>\n",
              "      <td>1930-07-14</td>\n",
              "      <td>Brazil</td>\n",
              "      <td>Yugoslavia</td>\n",
              "      <td>1</td>\n",
              "      <td>2</td>\n",
              "      <td>FIFA World Cup</td>\n",
              "      <td>Montevideo</td>\n",
              "      <td>Uruguay</td>\n",
              "      <td>True</td>\n",
              "    </tr>\n",
              "    <tr>\n",
              "      <th>1314</th>\n",
              "      <td>1930-07-14</td>\n",
              "      <td>Peru</td>\n",
              "      <td>Romania</td>\n",
              "      <td>1</td>\n",
              "      <td>3</td>\n",
              "      <td>FIFA World Cup</td>\n",
              "      <td>Montevideo</td>\n",
              "      <td>Uruguay</td>\n",
              "      <td>True</td>\n",
              "    </tr>\n",
              "    <tr>\n",
              "      <th>1315</th>\n",
              "      <td>1930-07-15</td>\n",
              "      <td>Argentina</td>\n",
              "      <td>France</td>\n",
              "      <td>1</td>\n",
              "      <td>0</td>\n",
              "      <td>FIFA World Cup</td>\n",
              "      <td>Montevideo</td>\n",
              "      <td>Uruguay</td>\n",
              "      <td>True</td>\n",
              "    </tr>\n",
              "  </tbody>\n",
              "</table>\n",
              "</div>"
            ],
            "text/plain": [
              "            date  home_team      away_team  home_score  away_score  \\\n",
              "1311  1930-07-13    Belgium  United States           0           3   \n",
              "1312  1930-07-13     France         Mexico           4           1   \n",
              "1313  1930-07-14     Brazil     Yugoslavia           1           2   \n",
              "1314  1930-07-14       Peru        Romania           1           3   \n",
              "1315  1930-07-15  Argentina         France           1           0   \n",
              "\n",
              "          tournament        city  country  neutral  \n",
              "1311  FIFA World Cup  Montevideo  Uruguay     True  \n",
              "1312  FIFA World Cup  Montevideo  Uruguay     True  \n",
              "1313  FIFA World Cup  Montevideo  Uruguay     True  \n",
              "1314  FIFA World Cup  Montevideo  Uruguay     True  \n",
              "1315  FIFA World Cup  Montevideo  Uruguay     True  "
            ]
          },
          "execution_count": 41,
          "metadata": {},
          "output_type": "execute_result"
        }
      ],
      "source": [
        "# Code here\n",
        "\n",
        "fifa_df=df.loc[df['tournament'] == 'FIFA World Cup']\n",
        "fifa_df.head()"
      ]
    },
    {
      "cell_type": "markdown",
      "id": "c06b0011",
      "metadata": {
        "id": "c06b0011"
      },
      "source": [
        "**5.2 In your new fifa_df, create a new _'total_score'_ column that sums _'home_score'_ + _'away_score'_ for each row.**\n",
        "\n",
        "PS. If you get a \"SettingWithCopyWarning\", please ignore it."
      ]
    },
    {
      "cell_type": "code",
      "execution_count": null,
      "id": "8dd33359",
      "metadata": {
        "id": "8dd33359",
        "outputId": "972f4e57-1191-44d5-9578-e620a6e4ea2e"
      },
      "outputs": [
        {
          "name": "stderr",
          "output_type": "stream",
          "text": [
            "C:\\Users\\ismaa\\AppData\\Local\\Temp\\ipykernel_28904\\726489568.py:2: SettingWithCopyWarning: \n",
            "A value is trying to be set on a copy of a slice from a DataFrame.\n",
            "Try using .loc[row_indexer,col_indexer] = value instead\n",
            "\n",
            "See the caveats in the documentation: https://pandas.pydata.org/pandas-docs/stable/user_guide/indexing.html#returning-a-view-versus-a-copy\n",
            "  fifa_df['total_score']=fifa_df['home_score']+fifa_df['away_score']\n"
          ]
        },
        {
          "data": {
            "text/html": [
              "<div>\n",
              "<style scoped>\n",
              "    .dataframe tbody tr th:only-of-type {\n",
              "        vertical-align: middle;\n",
              "    }\n",
              "\n",
              "    .dataframe tbody tr th {\n",
              "        vertical-align: top;\n",
              "    }\n",
              "\n",
              "    .dataframe thead th {\n",
              "        text-align: right;\n",
              "    }\n",
              "</style>\n",
              "<table border=\"1\" class=\"dataframe\">\n",
              "  <thead>\n",
              "    <tr style=\"text-align: right;\">\n",
              "      <th></th>\n",
              "      <th>date</th>\n",
              "      <th>home_team</th>\n",
              "      <th>away_team</th>\n",
              "      <th>home_score</th>\n",
              "      <th>away_score</th>\n",
              "      <th>tournament</th>\n",
              "      <th>city</th>\n",
              "      <th>country</th>\n",
              "      <th>neutral</th>\n",
              "      <th>total_score</th>\n",
              "    </tr>\n",
              "  </thead>\n",
              "  <tbody>\n",
              "    <tr>\n",
              "      <th>1311</th>\n",
              "      <td>1930-07-13</td>\n",
              "      <td>Belgium</td>\n",
              "      <td>United States</td>\n",
              "      <td>0</td>\n",
              "      <td>3</td>\n",
              "      <td>FIFA World Cup</td>\n",
              "      <td>Montevideo</td>\n",
              "      <td>Uruguay</td>\n",
              "      <td>True</td>\n",
              "      <td>3</td>\n",
              "    </tr>\n",
              "    <tr>\n",
              "      <th>1312</th>\n",
              "      <td>1930-07-13</td>\n",
              "      <td>France</td>\n",
              "      <td>Mexico</td>\n",
              "      <td>4</td>\n",
              "      <td>1</td>\n",
              "      <td>FIFA World Cup</td>\n",
              "      <td>Montevideo</td>\n",
              "      <td>Uruguay</td>\n",
              "      <td>True</td>\n",
              "      <td>5</td>\n",
              "    </tr>\n",
              "    <tr>\n",
              "      <th>1313</th>\n",
              "      <td>1930-07-14</td>\n",
              "      <td>Brazil</td>\n",
              "      <td>Yugoslavia</td>\n",
              "      <td>1</td>\n",
              "      <td>2</td>\n",
              "      <td>FIFA World Cup</td>\n",
              "      <td>Montevideo</td>\n",
              "      <td>Uruguay</td>\n",
              "      <td>True</td>\n",
              "      <td>3</td>\n",
              "    </tr>\n",
              "    <tr>\n",
              "      <th>1314</th>\n",
              "      <td>1930-07-14</td>\n",
              "      <td>Peru</td>\n",
              "      <td>Romania</td>\n",
              "      <td>1</td>\n",
              "      <td>3</td>\n",
              "      <td>FIFA World Cup</td>\n",
              "      <td>Montevideo</td>\n",
              "      <td>Uruguay</td>\n",
              "      <td>True</td>\n",
              "      <td>4</td>\n",
              "    </tr>\n",
              "    <tr>\n",
              "      <th>1315</th>\n",
              "      <td>1930-07-15</td>\n",
              "      <td>Argentina</td>\n",
              "      <td>France</td>\n",
              "      <td>1</td>\n",
              "      <td>0</td>\n",
              "      <td>FIFA World Cup</td>\n",
              "      <td>Montevideo</td>\n",
              "      <td>Uruguay</td>\n",
              "      <td>True</td>\n",
              "      <td>1</td>\n",
              "    </tr>\n",
              "    <tr>\n",
              "      <th>1316</th>\n",
              "      <td>1930-07-16</td>\n",
              "      <td>Chile</td>\n",
              "      <td>Mexico</td>\n",
              "      <td>3</td>\n",
              "      <td>0</td>\n",
              "      <td>FIFA World Cup</td>\n",
              "      <td>Montevideo</td>\n",
              "      <td>Uruguay</td>\n",
              "      <td>True</td>\n",
              "      <td>3</td>\n",
              "    </tr>\n",
              "    <tr>\n",
              "      <th>1317</th>\n",
              "      <td>1930-07-17</td>\n",
              "      <td>Bolivia</td>\n",
              "      <td>Yugoslavia</td>\n",
              "      <td>0</td>\n",
              "      <td>4</td>\n",
              "      <td>FIFA World Cup</td>\n",
              "      <td>Montevideo</td>\n",
              "      <td>Uruguay</td>\n",
              "      <td>True</td>\n",
              "      <td>4</td>\n",
              "    </tr>\n",
              "    <tr>\n",
              "      <th>1318</th>\n",
              "      <td>1930-07-17</td>\n",
              "      <td>Paraguay</td>\n",
              "      <td>United States</td>\n",
              "      <td>0</td>\n",
              "      <td>3</td>\n",
              "      <td>FIFA World Cup</td>\n",
              "      <td>Montevideo</td>\n",
              "      <td>Uruguay</td>\n",
              "      <td>True</td>\n",
              "      <td>3</td>\n",
              "    </tr>\n",
              "    <tr>\n",
              "      <th>1320</th>\n",
              "      <td>1930-07-18</td>\n",
              "      <td>Uruguay</td>\n",
              "      <td>Peru</td>\n",
              "      <td>1</td>\n",
              "      <td>0</td>\n",
              "      <td>FIFA World Cup</td>\n",
              "      <td>Montevideo</td>\n",
              "      <td>Uruguay</td>\n",
              "      <td>False</td>\n",
              "      <td>1</td>\n",
              "    </tr>\n",
              "    <tr>\n",
              "      <th>1321</th>\n",
              "      <td>1930-07-19</td>\n",
              "      <td>Argentina</td>\n",
              "      <td>Mexico</td>\n",
              "      <td>6</td>\n",
              "      <td>3</td>\n",
              "      <td>FIFA World Cup</td>\n",
              "      <td>Montevideo</td>\n",
              "      <td>Uruguay</td>\n",
              "      <td>True</td>\n",
              "      <td>9</td>\n",
              "    </tr>\n",
              "  </tbody>\n",
              "</table>\n",
              "</div>"
            ],
            "text/plain": [
              "            date  home_team      away_team  home_score  away_score  \\\n",
              "1311  1930-07-13    Belgium  United States           0           3   \n",
              "1312  1930-07-13     France         Mexico           4           1   \n",
              "1313  1930-07-14     Brazil     Yugoslavia           1           2   \n",
              "1314  1930-07-14       Peru        Romania           1           3   \n",
              "1315  1930-07-15  Argentina         France           1           0   \n",
              "1316  1930-07-16      Chile         Mexico           3           0   \n",
              "1317  1930-07-17    Bolivia     Yugoslavia           0           4   \n",
              "1318  1930-07-17   Paraguay  United States           0           3   \n",
              "1320  1930-07-18    Uruguay           Peru           1           0   \n",
              "1321  1930-07-19  Argentina         Mexico           6           3   \n",
              "\n",
              "          tournament        city  country  neutral  total_score  \n",
              "1311  FIFA World Cup  Montevideo  Uruguay     True            3  \n",
              "1312  FIFA World Cup  Montevideo  Uruguay     True            5  \n",
              "1313  FIFA World Cup  Montevideo  Uruguay     True            3  \n",
              "1314  FIFA World Cup  Montevideo  Uruguay     True            4  \n",
              "1315  FIFA World Cup  Montevideo  Uruguay     True            1  \n",
              "1316  FIFA World Cup  Montevideo  Uruguay     True            3  \n",
              "1317  FIFA World Cup  Montevideo  Uruguay     True            4  \n",
              "1318  FIFA World Cup  Montevideo  Uruguay     True            3  \n",
              "1320  FIFA World Cup  Montevideo  Uruguay    False            1  \n",
              "1321  FIFA World Cup  Montevideo  Uruguay     True            9  "
            ]
          },
          "execution_count": 43,
          "metadata": {},
          "output_type": "execute_result"
        }
      ],
      "source": [
        "# Code here\n",
        "fifa_df['total_score']=fifa_df['home_score']+fifa_df['away_score']\n",
        "fifa_df.head(10)\n"
      ]
    },
    {
      "cell_type": "markdown",
      "id": "9b7d48d2",
      "metadata": {
        "id": "9b7d48d2"
      },
      "source": [
        "**5.3 Group your data by country, then get the sum of the _'total_score'_ column. From there, you can use `idxmax()` to find the country with the highest _'total_score'_.**"
      ]
    },
    {
      "cell_type": "code",
      "execution_count": null,
      "id": "682c7a8a",
      "metadata": {
        "id": "682c7a8a",
        "outputId": "11535d59-4141-4a1e-9575-37294d2709fc"
      },
      "outputs": [
        {
          "data": {
            "text/plain": [
              "'Brazil'"
            ]
          },
          "execution_count": 45,
          "metadata": {},
          "output_type": "execute_result"
        }
      ],
      "source": [
        "# Code here\n",
        "\n",
        "fifa_df.reset_index().groupby(['country'])['total_score'].sum().idxmax()"
      ]
    }
  ],
  "metadata": {
    "kernelspec": {
      "display_name": "Python 3 (ipykernel)",
      "language": "python",
      "name": "python3"
    },
    "language_info": {
      "codemirror_mode": {
        "name": "ipython",
        "version": 3
      },
      "file_extension": ".py",
      "mimetype": "text/x-python",
      "name": "python",
      "nbconvert_exporter": "python",
      "pygments_lexer": "ipython3",
      "version": "3.11.5"
    },
    "colab": {
      "provenance": [],
      "include_colab_link": true
    }
  },
  "nbformat": 4,
  "nbformat_minor": 5
}